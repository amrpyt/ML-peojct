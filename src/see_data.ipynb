{
 "cells": [
  {
   "cell_type": "code",
   "execution_count": 3,
   "metadata": {},
   "outputs": [
    {
     "data": {
      "application/vnd.microsoft.datawrangler.viewer.v0+json": {
       "columns": [
        {
         "name": "index",
         "rawType": "int64",
         "type": "integer"
        },
        {
         "name": "CO2",
         "rawType": "int64",
         "type": "integer"
        },
        {
         "name": "TVOC",
         "rawType": "int64",
         "type": "integer"
        },
        {
         "name": "PM10",
         "rawType": "float64",
         "type": "float"
        },
        {
         "name": "PM2.5",
         "rawType": "float64",
         "type": "float"
        },
        {
         "name": "CO",
         "rawType": "int64",
         "type": "integer"
        },
        {
         "name": "Air Quality",
         "rawType": "int64",
         "type": "integer"
        },
        {
         "name": "LDR",
         "rawType": "int64",
         "type": "integer"
        },
        {
         "name": "O3",
         "rawType": "int64",
         "type": "integer"
        },
        {
         "name": "Temp",
         "rawType": "float64",
         "type": "float"
        },
        {
         "name": "Hum",
         "rawType": "float64",
         "type": "float"
        },
        {
         "name": "ts",
         "rawType": "object",
         "type": "string"
        }
       ],
       "conversionMethod": "pd.DataFrame",
       "ref": "c5201d78-2616-4d62-948b-1bf0e06c5179",
       "rows": [
        [
         "0",
         "592",
         "29",
         "10.3",
         "9.0",
         "352",
         "148",
         "974",
         "623",
         "24.0",
         "47.2",
         "2024-05-22T14:34:1"
        ],
        [
         "1",
         "592",
         "29",
         "10.31",
         "10.1",
         "304",
         "136",
         "974",
         "616",
         "23.6",
         "46.8",
         "2024-05-22T14:35:0"
        ],
        [
         "2",
         "592",
         "29",
         "4.08",
         "9.9",
         "284",
         "117",
         "974",
         "603",
         "23.5",
         "47.8",
         "2024-05-22T14:36:3"
        ],
        [
         "3",
         "592",
         "29",
         "7.86",
         "9.6",
         "266",
         "114",
         "323",
         "599",
         "23.3",
         "47.1",
         "2024-05-22T14:37:1"
        ],
        [
         "4",
         "592",
         "29",
         "6.84",
         "8.4",
         "260",
         "116",
         "307",
         "601",
         "23.0",
         "47.1",
         "2024-05-22T14:38:0"
        ]
       ],
       "shape": {
        "columns": 11,
        "rows": 5
       }
      },
      "text/html": [
       "<div>\n",
       "<style scoped>\n",
       "    .dataframe tbody tr th:only-of-type {\n",
       "        vertical-align: middle;\n",
       "    }\n",
       "\n",
       "    .dataframe tbody tr th {\n",
       "        vertical-align: top;\n",
       "    }\n",
       "\n",
       "    .dataframe thead th {\n",
       "        text-align: right;\n",
       "    }\n",
       "</style>\n",
       "<table border=\"1\" class=\"dataframe\">\n",
       "  <thead>\n",
       "    <tr style=\"text-align: right;\">\n",
       "      <th></th>\n",
       "      <th>CO2</th>\n",
       "      <th>TVOC</th>\n",
       "      <th>PM10</th>\n",
       "      <th>PM2.5</th>\n",
       "      <th>CO</th>\n",
       "      <th>Air Quality</th>\n",
       "      <th>LDR</th>\n",
       "      <th>O3</th>\n",
       "      <th>Temp</th>\n",
       "      <th>Hum</th>\n",
       "      <th>ts</th>\n",
       "    </tr>\n",
       "  </thead>\n",
       "  <tbody>\n",
       "    <tr>\n",
       "      <th>0</th>\n",
       "      <td>592</td>\n",
       "      <td>29</td>\n",
       "      <td>10.30</td>\n",
       "      <td>9.0</td>\n",
       "      <td>352</td>\n",
       "      <td>148</td>\n",
       "      <td>974</td>\n",
       "      <td>623</td>\n",
       "      <td>24.0</td>\n",
       "      <td>47.2</td>\n",
       "      <td>2024-05-22T14:34:1</td>\n",
       "    </tr>\n",
       "    <tr>\n",
       "      <th>1</th>\n",
       "      <td>592</td>\n",
       "      <td>29</td>\n",
       "      <td>10.31</td>\n",
       "      <td>10.1</td>\n",
       "      <td>304</td>\n",
       "      <td>136</td>\n",
       "      <td>974</td>\n",
       "      <td>616</td>\n",
       "      <td>23.6</td>\n",
       "      <td>46.8</td>\n",
       "      <td>2024-05-22T14:35:0</td>\n",
       "    </tr>\n",
       "    <tr>\n",
       "      <th>2</th>\n",
       "      <td>592</td>\n",
       "      <td>29</td>\n",
       "      <td>4.08</td>\n",
       "      <td>9.9</td>\n",
       "      <td>284</td>\n",
       "      <td>117</td>\n",
       "      <td>974</td>\n",
       "      <td>603</td>\n",
       "      <td>23.5</td>\n",
       "      <td>47.8</td>\n",
       "      <td>2024-05-22T14:36:3</td>\n",
       "    </tr>\n",
       "    <tr>\n",
       "      <th>3</th>\n",
       "      <td>592</td>\n",
       "      <td>29</td>\n",
       "      <td>7.86</td>\n",
       "      <td>9.6</td>\n",
       "      <td>266</td>\n",
       "      <td>114</td>\n",
       "      <td>323</td>\n",
       "      <td>599</td>\n",
       "      <td>23.3</td>\n",
       "      <td>47.1</td>\n",
       "      <td>2024-05-22T14:37:1</td>\n",
       "    </tr>\n",
       "    <tr>\n",
       "      <th>4</th>\n",
       "      <td>592</td>\n",
       "      <td>29</td>\n",
       "      <td>6.84</td>\n",
       "      <td>8.4</td>\n",
       "      <td>260</td>\n",
       "      <td>116</td>\n",
       "      <td>307</td>\n",
       "      <td>601</td>\n",
       "      <td>23.0</td>\n",
       "      <td>47.1</td>\n",
       "      <td>2024-05-22T14:38:0</td>\n",
       "    </tr>\n",
       "  </tbody>\n",
       "</table>\n",
       "</div>"
      ],
      "text/plain": [
       "   CO2  TVOC   PM10  PM2.5   CO  Air Quality  LDR   O3  Temp   Hum  \\\n",
       "0  592    29  10.30    9.0  352          148  974  623  24.0  47.2   \n",
       "1  592    29  10.31   10.1  304          136  974  616  23.6  46.8   \n",
       "2  592    29   4.08    9.9  284          117  974  603  23.5  47.8   \n",
       "3  592    29   7.86    9.6  266          114  323  599  23.3  47.1   \n",
       "4  592    29   6.84    8.4  260          116  307  601  23.0  47.1   \n",
       "\n",
       "                   ts  \n",
       "0  2024-05-22T14:34:1  \n",
       "1  2024-05-22T14:35:0  \n",
       "2  2024-05-22T14:36:3  \n",
       "3  2024-05-22T14:37:1  \n",
       "4  2024-05-22T14:38:0  "
      ]
     },
     "execution_count": 3,
     "metadata": {},
     "output_type": "execute_result"
    }
   ],
   "source": [
    "# Loaded variable 'df' from URI: d:\\Work\\Client Projects\\Paid projects\\ML peojct\\src\\data.csv\n",
    "import pandas as pd\n",
    "\n",
    "df = pd.read_csv(r\"d:\\Work\\Client Projects\\Paid projects\\ML peojct\\src\\data.csv\")\n",
    "df.head()"
   ]
  },
  {
   "cell_type": "code",
   "execution_count": null,
   "metadata": {},
   "outputs": [],
   "source": []
  }
 ],
 "metadata": {
  "kernelspec": {
   "display_name": ".venv",
   "language": "python",
   "name": "python3"
  },
  "language_info": {
   "codemirror_mode": {
    "name": "ipython",
    "version": 3
   },
   "file_extension": ".py",
   "mimetype": "text/x-python",
   "name": "python",
   "nbconvert_exporter": "python",
   "pygments_lexer": "ipython3",
   "version": "3.12.1"
  }
 },
 "nbformat": 4,
 "nbformat_minor": 2
}
