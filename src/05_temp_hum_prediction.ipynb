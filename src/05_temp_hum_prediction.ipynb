{
 "cells": [
  {
   "cell_type": "markdown",
   "metadata": {},
   "source": [
    "# Temperature and Humidity Prediction\n",
    "\n",
    "This notebook implements regression models for temperature and humidity prediction using other air quality features."
   ]
  },
  {
   "cell_type": "code",
   "execution_count": null,
   "metadata": {},
   "source": [
    "import os\n",
    "import numpy as np\n",
    "import pandas as pd\n",
    "import matplotlib.pyplot as plt\n",
    "import seaborn as sns\n",
    "from sklearn.model_selection import train_test_split\n",
    "from sklearn.preprocessing import StandardScaler\n",
    "from sklearn.metrics import mean_squared_error, r2_score, mean_absolute_error\n",
    "import tensorflow as tf\n",
    "from tensorflow.keras.models import Sequential\n",
    "from tensorflow.keras.layers import Dense\n",
    "from tensorflow.keras.optimizers import Adam"
   ]
  },
  {
   "cell_type": "markdown",
   "metadata": {},
   "source": [
    "## 1. Data Preparation"
   ]
  },
  {
   "cell_type": "code",
   "execution_count": null,
   "metadata": {},
   "source": [
    "# Load and prepare data\n",
    "df = pd.read_csv('data.csv')\n",
    "\n",
    "# Select features for prediction (excluding temperature and humidity)\n",
    "reg_features = ['CO2', 'TVOC', 'PM10', 'PM2.5', 'CO', 'LDR', 'O3']\n",
    "X_reg = df[reg_features]\n",
    "y_temp = df['Temp']\n",
    "y_hum = df['Hum']\n",
    "\n",
    "# Split data\n",
    "X_train_reg, X_test_reg, y_train_temp, y_test_temp = train_test_split(X_reg, y_temp, test_size=0.2, random_state=42)\n",
    "_, _, y_train_hum, y_test_hum = train_test_split(X_reg, y_hum, test_size=0.2, random_state=42)\n",
    "\n",
    "# Scale features\n",
    "scaler_reg = StandardScaler()\n",
    "X_train_reg_scaled = scaler_reg.fit_transform(X_train_reg)\n",
    "X_test_reg_scaled = scaler_reg.transform(X_test_reg)\n",
    "\n",
    "print(\"Data shapes:\")\n",
    "print(f\"Training features: {X_train_reg_scaled.shape}\")\n",
    "print(f\"Test features: {X_test_reg_scaled.shape}\")"
   ]
  },
  {
   "cell_type": "markdown",
   "metadata": {},
   "source": [
    "## 2. Temperature Prediction Model"
   ]
  },
  {
   "cell_type": "code",
   "execution_count": null,
   "metadata": {},
   "source": [
    "def create_regression_model(input_dim):\n",
    "    model = Sequential([\n",
    "        Dense(128, activation='relu', input_shape=(input_dim,)),\n",
    "        Dense(64, activation='relu'),\n",
    "        Dense(32, activation='relu'),\n",
    "        Dense(1)\n",
    "    ])\n",
    "    return model\n",
    "\n",
    "# Create and train temperature model\n",
    "print(\"Training Temperature Prediction Model...\")\n",
    "temp_model = create_regression_model(len(reg_features))\n",
    "temp_model.compile(optimizer='adam', loss='mse')\n",
    "\n",
    "temp_history = temp_model.fit(\n",
    "    X_train_reg_scaled,\n",
    "    y_train_temp,\n",
    "    epochs=50,\n",
    "    validation_split=0.2,\n",
    "    verbose=1\n",
    ")\n",
    "\n",
    "# Make predictions\n",
    "temp_pred = temp_model.predict(X_test_reg_scaled).flatten()\n",
    "\n",
    "# Calculate metrics\n",
    "temp_metrics = {\n",
    "    'MSE': mean_squared_error(y_test_temp, temp_pred),\n",
    "    'RMSE': np.sqrt(mean_squared_error(y_test_temp, temp_pred)),\n",
    "    'R²': r2_score(y_test_temp, temp_pred),\n",
    "    'MAE': mean_absolute_error(y_test_temp, temp_pred)\n",
    "}\n",
    "\n",
    "print(\"\\nTemperature Prediction Metrics:\")\n",
    "for metric, value in temp_metrics.items():\n",
    "    print(f\"{metric}: {value:.4f}\")"
   ]
  },
  {
   "cell_type": "markdown",
   "metadata": {},
   "source": [
    "## 3. Humidity Prediction Model"
   ]
  },
  {
   "cell_type": "code",
   "execution_count": null,
   "metadata": {},
   "source": [
    "# Create and train humidity model\n",
    "print(\"Training Humidity Prediction Model...\")\n",
    "hum_model = create_regression_model(len(reg_features))\n",
    "hum_model.compile(optimizer='adam', loss='mse')\n",
    "\n",
    "hum_history = hum_model.fit(\n",
    "    X_train_reg_scaled,\n",
    "    y_train_hum,\n",
    "    epochs=50,\n",
    "    validation_split=0.2,\n",
    "    verbose=1\n",
    ")\n",
    "\n",
    "# Make predictions\n",
    "hum_pred = hum_model.predict(X_test_reg_scaled).flatten()\n",
    "\n",
    "# Calculate metrics\n",
    "hum_metrics = {\n",
    "    'MSE': mean_squared_error(y_test_hum, hum_pred),\n",
    "    'RMSE': np.sqrt(mean_squared_error(y_test_hum, hum_pred)),\n",
    "    'R²': r2_score(y_test_hum, hum_pred),\n",
    "    'MAE': mean_absolute_error(y_test_hum, hum_pred)\n",
    "}\n",
    "\n",
    "print(\"\\nHumidity Prediction Metrics:\")\n",
    "for metric, value in hum_metrics.items():\n",
    "    print(f\"{metric}: {value:.4f}\")"
   ]
  },
  {
   "cell_type": "markdown",
   "metadata": {},
   "source": [
    "## 4. Visualization of Results"
   ]
  },
  {
   "cell_type": "code",
   "execution_count": null,
   "metadata": {},
   "source": [
    "# Plot training history\n",
    "plt.figure(figsize=(15, 5))\n",
    "\n",
    "# Temperature training history\n",
    "plt.subplot(1, 2, 1)\n",
    "plt.plot(temp_history.history['loss'], label='Training')\n",
    "plt.plot(temp_history.history['val_loss'], label='Validation')\n",
    "plt.title('Temperature Model Loss')\n",
    "plt.xlabel('Epoch')\n",
    "plt.ylabel('Mean Squared Error')\n",
    "plt.legend()\n",
    "\n",
    "# Humidity training history\n",
    "plt.subplot(1, 2, 2)\n",
    "plt.plot(hum_history.history['loss'], label='Training')\n",
    "plt.plot(hum_history.history['val_loss'], label='Validation')\n",
    "plt.title('Humidity Model Loss')\n",
    "plt.xlabel('Epoch')\n",
    "plt.ylabel('Mean Squared Error')\n",
    "plt.legend()\n",
    "\n",
    "plt.tight_layout()\n",
    "plt.show()\n",
    "\n",
    "# Plot predictions vs actual values\n",
    "plt.figure(figsize=(15, 5))\n",
    "\n",
    "# Temperature predictions\n",
    "plt.subplot(1, 2, 1)\n",
    "plt.scatter(y_test_temp, temp_pred, alpha=0.5)\n",
    "plt.plot([y_test_temp.min(), y_test_temp.max()],\n",
    "         [y_test_temp.min(), y_test_temp.max()], 'r--')\n",
    "plt.title(f'Temperature Prediction (R² = {temp_metrics[\"R²\"]:.4f})')\n",
    "plt.xlabel('Actual Temperature')\n",
    "plt.ylabel('Predicted Temperature')\n",
    "\n",
    "# Humidity predictions\n",
    "plt.subplot(1, 2, 2)\n",
    "plt.scatter(y_test_hum, hum_pred, alpha=0.5)\n",
    "plt.plot([y_test_hum.min(), y_test_hum.max()],\n",
    "         [y_test_hum.min(), y_test_hum.max()], 'r--')\n",
    "plt.title(f'Humidity Prediction (R² = {hum_metrics[\"R²\"]:.4f})')\n",
    "plt.xlabel('Actual Humidity')\n",
    "plt.ylabel('Predicted Humidity')\n",
    "\n",
    "plt.tight_layout()\n",
    "plt.show()"
   ]
  },
  {
   "cell_type": "markdown",
   "metadata": {},
   "source": [
    "## 5. Save Results"
   ]
  },
  {
   "cell_type": "code",
   "execution_count": null,
   "metadata": {},
   "source": [
    "# Create models directory\n",
    "os.makedirs('models', exist_ok=True)\n",
    "\n",
    "# Save models\n",
    "temp_model.save('models/temperature_model.h5')\n",
    "hum_model.save('models/humidity_model.h5')\n",
    "\n",
    "# Save metrics\n",
    "metrics = {\n",
    "    'Temperature': temp_metrics,\n",
    "    'Humidity': hum_metrics\n",
    "}\n",
    "\n",
    "import pickle\n",
    "with open('results/regression_metrics.pkl', 'wb') as f:\n",
    "    pickle.dump(metrics, f)\n",
    "\n",
    "print(\"Models and metrics saved successfully!\")"
   ]
  }
 ],
 "metadata": {
  "kernelspec": {
   "display_name": "Python 3",
   "language": "python",
   "name": "python3"
  }
 },
 "nbformat": 4,
 "nbformat_minor": 4
}