{
 "cells": [
  {
   "cell_type": "markdown",
   "metadata": {},
   "source": [
    "# Temperature and Humidity Prediction using Pre-trained Model\n",
    "\n",
    "This notebook uses the pre-trained model to predict temperature and humidity using other air quality features.\n",
    "Changes:\n",
    "- Uses pre-trained model instead of training new ones\n",
    "- Uses project configuration and utilities\n",
    "- Updated paths to use project structure"
   ]
  },
  {
   "cell_type": "code",
   "execution_count": 1,
   "metadata": {},
   "outputs": [
    {
     "ename": "ModuleNotFoundError",
     "evalue": "No module named 'utils'",
     "output_type": "error",
     "traceback": [
      "\u001b[1;31m---------------------------------------------------------------------------\u001b[0m",
      "\u001b[1;31mModuleNotFoundError\u001b[0m                       Traceback (most recent call last)",
      "Cell \u001b[1;32mIn[1], line 18\u001b[0m\n\u001b[0;32m     16\u001b[0m \u001b[38;5;28;01mfrom\u001b[39;00m \u001b[38;5;21;01msrc\u001b[39;00m\u001b[38;5;21;01m.\u001b[39;00m\u001b[38;5;21;01mconfig\u001b[39;00m \u001b[38;5;28;01mimport\u001b[39;00m DATA_PATH, MODEL_SAVE_PATH, RESULTS_PATH\n\u001b[0;32m     17\u001b[0m \u001b[38;5;28;01mfrom\u001b[39;00m \u001b[38;5;21;01msrc\u001b[39;00m\u001b[38;5;21;01m.\u001b[39;00m\u001b[38;5;21;01mdata_preprocessing\u001b[39;00m \u001b[38;5;28;01mimport\u001b[39;00m DataPreprocessor\n\u001b[1;32m---> 18\u001b[0m \u001b[38;5;28;01mfrom\u001b[39;00m \u001b[38;5;21;01msrc\u001b[39;00m\u001b[38;5;21;01m.\u001b[39;00m\u001b[38;5;21;01mpredict\u001b[39;00m \u001b[38;5;28;01mimport\u001b[39;00m predict_temp_hum, load_optimized_model\n\u001b[0;32m     19\u001b[0m \u001b[38;5;28;01mfrom\u001b[39;00m \u001b[38;5;21;01msrc\u001b[39;00m\u001b[38;5;21;01m.\u001b[39;00m\u001b[38;5;21;01mvisualization\u001b[39;00m \u001b[38;5;28;01mimport\u001b[39;00m Visualizer\n",
      "File \u001b[1;32md:\\Work\\Client Projects\\Paid projects\\AI project v1\\ML-project\\src\\predict.py:6\u001b[0m\n\u001b[0;32m      4\u001b[0m \u001b[38;5;28;01mfrom\u001b[39;00m \u001b[38;5;21;01mtensorflow\u001b[39;00m\u001b[38;5;21;01m.\u001b[39;00m\u001b[38;5;21;01mpython\u001b[39;00m\u001b[38;5;21;01m.\u001b[39;00m\u001b[38;5;21;01mkeras\u001b[39;00m\u001b[38;5;21;01m.\u001b[39;00m\u001b[38;5;21;01mmodels\u001b[39;00m \u001b[38;5;28;01mimport\u001b[39;00m load_model\n\u001b[0;32m      5\u001b[0m \u001b[38;5;28;01mimport\u001b[39;00m \u001b[38;5;21;01mos\u001b[39;00m\n\u001b[1;32m----> 6\u001b[0m \u001b[38;5;28;01mfrom\u001b[39;00m \u001b[38;5;21;01mutils\u001b[39;00m \u001b[38;5;28;01mimport\u001b[39;00m categorize_air_quality, plot_regression_results\n\u001b[0;32m      7\u001b[0m \u001b[38;5;28;01mfrom\u001b[39;00m \u001b[38;5;21;01mevaluate\u001b[39;00m \u001b[38;5;28;01mimport\u001b[39;00m evaluate_classification_model, evaluate_regression_model\n\u001b[0;32m      8\u001b[0m \u001b[38;5;28;01mfrom\u001b[39;00m \u001b[38;5;21;01mconfig\u001b[39;00m \u001b[38;5;28;01mimport\u001b[39;00m MODEL_SAVE_PATH, FEATURES, TARGET_CLASS, REGRESSION_TARGETS\n",
      "\u001b[1;31mModuleNotFoundError\u001b[0m: No module named 'utils'"
     ]
    }
   ],
   "source": [
    "import os\n",
    "import sys\n",
    "import numpy as np\n",
    "import pandas as pd\n",
    "import matplotlib.pyplot as plt\n",
    "import seaborn as sns\n",
    "from sklearn.metrics import mean_squared_error, r2_score, mean_absolute_error\n",
    "import tensorflow as tf\n",
    "\n",
    "# Add project root to path for imports\n",
    "project_root = os.path.abspath(os.path.join(os.getcwd(), \"..\"))\n",
    "if project_root not in sys.path:\n",
    "    sys.path.append(project_root)\n",
    "\n",
    "# Import project modules\n",
    "from src.config import DATA_PATH, MODEL_SAVE_PATH, RESULTS_PATH\n",
    "from src.data_preprocessing import DataPreprocessor\n",
    "from src.predict import predict_temp_hum, load_optimized_model\n",
    "from src.visualization import Visualizer"
   ]
  },
  {
   "cell_type": "markdown",
   "metadata": {},
   "source": [
    "## 1. Load Pre-trained Model and Data"
   ]
  },
  {
   "cell_type": "code",
   "execution_count": null,
   "metadata": {},
   "outputs": [],
   "source": [
    "# Load the optimized model\n",
    "model_path = os.path.join(MODEL_SAVE_PATH, 'best_model.h5')\n",
    "best_model = load_optimized_model(model_path)\n",
    "\n",
    "# Load and prepare data\n",
    "df = pd.read_csv(DATA_PATH)\n",
    "\n",
    "# Initialize preprocessor\n",
    "preprocessor = DataPreprocessor()\n",
    "\n",
    "# Select features for prediction (excluding temperature and humidity)\n",
    "reg_features = ['CO2', 'TVOC', 'PM10', 'PM2.5', 'CO', 'LDR', 'O3']\n",
    "X_reg = df[reg_features]\n",
    "y_temp = df['Temp']\n",
    "y_hum = df['Hum']\n",
    "\n",
    "# Preprocess data\n",
    "X_reg_scaled = preprocessor.normalize_features(X_reg, None)[0]"
   ]
  },
  {
   "cell_type": "markdown",
   "metadata": {},
   "source": [
    "## 2. Make Temperature and Humidity Predictions"
   ]
  },
  {
   "cell_type": "code",
   "execution_count": null,
   "metadata": {},
   "outputs": [],
   "source": [
    "# Make predictions using the pre-trained model\n",
    "temp_pred, hum_pred = predict_temp_hum(best_model, X_reg_scaled)\n",
    "\n",
    "# Calculate metrics for temperature predictions\n",
    "temp_metrics = {\n",
    "    'MSE': mean_squared_error(y_temp, temp_pred),\n",
    "    'RMSE': np.sqrt(mean_squared_error(y_temp, temp_pred)),\n",
    "    'R²': r2_score(y_temp, temp_pred),\n",
    "    'MAE': mean_absolute_error(y_temp, temp_pred)\n",
    "}\n",
    "\n",
    "# Calculate metrics for humidity predictions\n",
    "hum_metrics = {\n",
    "    'MSE': mean_squared_error(y_hum, hum_pred),\n",
    "    'RMSE': np.sqrt(mean_squared_error(y_hum, hum_pred)),\n",
    "    'R²': r2_score(y_hum, hum_pred),\n",
    "    'MAE': mean_absolute_error(y_hum, hum_pred)\n",
    "}\n",
    "\n",
    "print(\"\\nTemperature Prediction Metrics:\")\n",
    "for metric, value in temp_metrics.items():\n",
    "    print(f\"{metric}: {value:.4f}\")\n",
    "\n",
    "print(\"\\nHumidity Prediction Metrics:\")\n",
    "for metric, value in hum_metrics.items():\n",
    "    print(f\"{metric}: {value:.4f}\")"
   ]
  },
  {
   "cell_type": "markdown",
   "metadata": {},
   "source": [
    "## 3. Visualize Results"
   ]
  },
  {
   "cell_type": "code",
   "execution_count": null,
   "metadata": {},
   "outputs": [],
   "source": [
    "# Create visualizer instance\n",
    "viz = Visualizer()\n",
    "\n",
    "# Plot temperature predictions\n",
    "plt.figure(figsize=(15, 5))\n",
    "\n",
    "plt.subplot(1, 2, 1)\n",
    "viz.plot_regression_results(y_temp, temp_pred, 'Temperature Prediction')\n",
    "\n",
    "plt.subplot(1, 2, 2)\n",
    "viz.plot_regression_results(y_hum, hum_pred, 'Humidity Prediction')\n",
    "\n",
    "plt.tight_layout()\n",
    "plt.show()"
   ]
  },
  {
   "cell_type": "markdown",
   "metadata": {},
   "source": [
    "## 4. Save Results"
   ]
  },
  {
   "cell_type": "code",
   "execution_count": null,
   "metadata": {},
   "outputs": [],
   "source": [
    "# Save metrics\n",
    "metrics = {\n",
    "    'Temperature': temp_metrics,\n",
    "    'Humidity': hum_metrics\n",
    "}\n",
    "\n",
    "import pickle\n",
    "metrics_path = os.path.join(RESULTS_PATH, 'temp_hum_prediction_metrics.pkl')\n",
    "with open(metrics_path, 'wb') as f:\n",
    "    pickle.dump(metrics, f)\n",
    "\n",
    "print(f\"Metrics saved to {metrics_path}\")"
   ]
  }
 ],
 "metadata": {
  "kernelspec": {
   "display_name": "Python 3",
   "language": "python",
   "name": "python3"
  },
  "language_info": {
   "codemirror_mode": {
    "name": "ipython",
    "version": 3
   },
   "file_extension": ".py",
   "mimetype": "text/x-python",
   "name": "python",
   "nbconvert_exporter": "python",
   "pygments_lexer": "ipython3",
   "version": "3.12.1"
  }
 },
 "nbformat": 4,
 "nbformat_minor": 4
}
