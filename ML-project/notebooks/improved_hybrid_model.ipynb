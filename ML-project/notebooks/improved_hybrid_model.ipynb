{
 "cells": [
  {
   "cell_type": "markdown",
   "metadata": {},
   "source": [
    "# Improved Hybrid Model Training\n",
    "\n",
    "This notebook implements:\n",
    "1. Efficient CNN-BiLSTM with reduced parameters\n",
    "2. Multi-task learning for classification and regression\n",
    "3. Time series prediction with sliding window\n",
    "4. Model optimization techniques (pruning and weight clipping)"
   ]
  },
  {
   "cell_type": "code",
   "execution_count": null,
   "metadata": {},
   "outputs": [],
   "source": [
    "import numpy as np\n",
    "import pandas as pd\n",
    "import matplotlib.pyplot as plt\n",
    "import seaborn as sns\n",
    "from src.data_preprocessing import DataPreprocessor\n",
    "from src.models import create_efficient_cnn_bilstm, apply_pruning, apply_weight_clipping, HybridTimeSeriesModel\n",
    "\n",
    "# Set style for better visualizations\n",
    "plt.style.use('seaborn')\n",
    "sns.set_palette('husl')"
   ]
  },
  {
   "cell_type": "code",
   "execution_count": null,
   "metadata": {},
   "outputs": [],
   "source": [
    "# Load and preprocess data\n",
    "preprocessor = DataPreprocessor(window_size=60)\n",
    "df = pd.read_csv('data/air_quality.csv')\n",
    "\n",
    "# Prepare features\n",
    "features = ['CO2', 'TVOC', 'PM10', 'PM2.5', 'CO', 'LDR', 'O3']\n",
    "prepared_data = preprocessor.prepare_data(df, features, 'Air Quality')\n",
    "\n",
    "# Get sequence data for time series\n",
    "X_seq = prepared_data['X_seq']\n",
    "y_seq = prepared_data['y_seq']\n",
    "\n",
    "print(\"Data shapes:\")\n",
    "print(f\"Classification - X_train: {prepared_data['X_train'].shape}\")\n",
    "print(f\"Time Series - X_seq: {X_seq.shape}\")"
   ]
  },
  {
   "cell_type": "code",
   "execution_count": null,
   "metadata": {},
   "outputs": [],
   "source": [
    "# Create and train hybrid model\n",
    "input_shape = (60, len(features))  # 60 timesteps\n",
    "num_classes = len(df['air_quality_category'].unique())\n",
    "\n",
    "model = HybridTimeSeriesModel(input_shape, num_classes)\n",
    "model.model.summary()\n",
    "\n",
    "# Split time series data\n",
    "split_idx = int(len(X_seq) * 0.8)\n",
    "X_train_seq = X_seq[:split_idx]\n",
    "y_train_class = prepared_data['y_train'][:split_idx]\n",
    "y_train_temp = y_seq[:split_idx, 0]\n",
    "y_train_hum = y_seq[:split_idx, 1]\n",
    "\n",
    "# Train model\n",
    "history = model.train(\n",
    "    X_train_seq,\n",
    "    y_train_class,\n",
    "    y_train_temp,\n",
    "    y_train_hum,\n",
    "    epochs=100,\n",
    "    batch_size=32\n",
    ")"
   ]
  },
  {
   "cell_type": "code",
   "execution_count": null,
   "metadata": {},
   "outputs": [],
   "source": [
    "# Plot training metrics\n",
    "fig, ((ax1, ax2), (ax3, ax4)) = plt.subplots(2, 2, figsize=(15, 10))\n",
    "\n",
    "# Classification accuracy\n",
    "ax1.plot(history.history['classification_accuracy'], label='Training')\n",
    "ax1.plot(history.history['val_classification_accuracy'], label='Validation')\n",
    "ax1.set_title('Classification Accuracy')\n",
    "ax1.set_xlabel('Epoch')\n",
    "ax1.set_ylabel('Accuracy')\n",
    "ax1.legend()\n",
    "\n",
    "# Classification loss\n",
    "ax2.plot(history.history['classification_loss'], label='Training')\n",
    "ax2.plot(history.history['val_classification_loss'], label='Validation')\n",
    "ax2.set_title('Classification Loss')\n",
    "ax2.set_xlabel('Epoch')\n",
    "ax2.set_ylabel('Loss')\n",
    "ax2.legend()\n",
    "\n",
    "# Temperature MSE\n",
    "ax3.plot(history.history['temperature_mse'], label='Training')\n",
    "ax3.plot(history.history['val_temperature_mse'], label='Validation')\n",
    "ax3.set_title('Temperature Prediction MSE')\n",
    "ax3.set_xlabel('Epoch')\n",
    "ax3.set_ylabel('MSE')\n",
    "ax3.legend()\n",
    "\n",
    "# Humidity MSE\n",
    "ax4.plot(history.history['humidity_mse'], label='Training')\n",
    "ax4.plot(history.history['val_humidity_mse'], label='Validation')\n",
    "ax4.set_title('Humidity Prediction MSE')\n",
    "ax4.set_xlabel('Epoch')\n",
    "ax4.set_ylabel('MSE')\n",
    "ax4.legend()\n",
    "\n",
    "plt.tight_layout()\n",
    "plt.show()"
   ]
  },
  {
   "cell_type": "code",
   "execution_count": null,
   "metadata": {},
   "outputs": [],
   "source": [
    "# Apply model optimization\n",
    "print(\"Applying pruning...\")\n",
    "pruned_model = apply_pruning(model.model, {'sparsity': 0.5})\n",
    "\n",
    "print(\"\\nApplying weight clipping...\")\n",
    "optimized_model = apply_weight_clipping(pruned_model)\n",
    "\n",
    "# Save optimized model\n",
    "optimized_model.save('models/optimized_hybrid_model.h5')\n",
    "print('\\nOptimized model saved successfully!')\n",
    "\n",
    "# Compare parameters\n",
    "original_params = model.model.count_params()\n",
    "optimized_params = optimized_model.count_params()\n",
    "reduction = (original_params - optimized_params) / original_params * 100\n",
    "\n",
    "print(f\"\\nParameter reduction: {reduction:.2f}%\")\n",
    "print(f\"Original parameters: {original_params:,}\")\n",
    "print(f\"Optimized parameters: {optimized_params:,}\")"
   ]
  }
 ],
 "metadata": {
  "kernelspec": {
   "display_name": "Python 3",
   "language": "python",
   "name": "python3"
  },
  "language_info": {
   "name": "python",
   "version": "3.12.1"
  }
 },
 "nbformat": 4,
 "nbformat_minor": 4
}
